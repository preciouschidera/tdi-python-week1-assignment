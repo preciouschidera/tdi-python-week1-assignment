{
 "cells": [
  {
   "cell_type": "code",
   "execution_count": 1,
   "id": "4111aa77-f883-4e0b-a83b-15b0a438543b",
   "metadata": {},
   "outputs": [
    {
     "name": "stdout",
     "output_type": "stream",
     "text": [
      "Sum of x and y: 30.5\n"
     ]
    }
   ],
   "source": [
    "# 1. Add integer and float\n",
    "x = 10\n",
    "y = 20.5\n",
    "print(\"Sum of x and y:\", x + y)"
   ]
  },
  {
   "cell_type": "code",
   "execution_count": 2,
   "id": "1934f7e8-1e5b-449e-9d04-0f3f40f26f15",
   "metadata": {},
   "outputs": [
    {
     "name": "stdout",
     "output_type": "stream",
     "text": [
      "Length of name: 6\n"
     ]
    }
   ],
   "source": [
    "# 2. Print length of your name \n",
    "name = \"CHICHI\"\n",
    "print(\"Length of name:\", len(name))"
   ]
  },
  {
   "cell_type": "code",
   "execution_count": 3,
   "id": "56fa7cbd-6699-48f9-89dc-96d72e08976d",
   "metadata": {},
   "outputs": [
    {
     "name": "stdout",
     "output_type": "stream",
     "text": [
      "Area of rectangle: 15\n"
     ]
    }
   ],
   "source": [
    "# 3. Function to calculate area of a rectangle\n",
    "def calculate_area(length, width):\n",
    "    return length * width\n",
    "\n",
    "print(\"Area of rectangle:\", calculate_area(5, 3))"
   ]
  },
  {
   "cell_type": "code",
   "execution_count": 4,
   "id": "04ebc401-62fe-477e-b112-717172834317",
   "metadata": {},
   "outputs": [
    {
     "name": "stdout",
     "output_type": "stream",
     "text": [
      "Integer division (a // b): 3\n",
      "Modulus (a % b): 3\n"
     ]
    }
   ],
   "source": [
    "# 4. Integer division and modulus\n",
    "a = 15\n",
    "b = 4\n",
    "print(\"Integer division (a // b):\", a // b)\n",
    "print(\"Modulus (a % b):\", a % b)"
   ]
  },
  {
   "cell_type": "code",
   "execution_count": 5,
   "id": "a6b352f0-0fb8-44b4-b90b-5205a0c8a58d",
   "metadata": {},
   "outputs": [
    {
     "name": "stdout",
     "output_type": "stream",
     "text": [
      "Adult\n"
     ]
    }
   ],
   "source": [
    "# 5. Check age condition\n",
    "age = 25\n",
    "if age >= 18 and age < 65:\n",
    "    print(\"Adult\")\n",
    "else:\n",
    "    print(\"Not an Adult\")"
   ]
  },
  {
   "cell_type": "code",
   "execution_count": 6,
   "id": "392144be-2362-4dfe-8e63-bc49dd53efb4",
   "metadata": {},
   "outputs": [
    {
     "name": "stdout",
     "output_type": "stream",
     "text": [
      "num1 is not equal to num2: True\n"
     ]
    }
   ],
   "source": [
    "# 6. Check if numbers are not equal\n",
    "num1 = 12\n",
    "num2 = 15\n",
    "print(\"num1 is not equal to num2:\", num1 != num2)"
   ]
  },
  {
   "cell_type": "code",
   "execution_count": 7,
   "id": "483945a2-6dcb-425c-85e0-bbb30ade055b",
   "metadata": {},
   "outputs": [
    {
     "name": "stdout",
     "output_type": "stream",
     "text": [
      "Is 4 even and positive? True\n",
      "Is -2 even and positive? False\n"
     ]
    }
   ],
   "source": [
    "# 7. Check if number is even and positive\n",
    "def is_even_and_positive(num):\n",
    "    return num > 0 and num % 2 == 0\n",
    "\n",
    "print(\"Is 4 even and positive?\", is_even_and_positive(4))\n",
    "print(\"Is -2 even and positive?\", is_even_and_positive(-2))"
   ]
  },
  {
   "cell_type": "code",
   "execution_count": 8,
   "id": "dc7269f3-5b8c-4877-b7f3-269885b28c62",
   "metadata": {},
   "outputs": [
    {
     "name": "stdout",
     "output_type": "stream",
     "text": [
      "x AND y: False\n",
      "x OR y: True\n"
     ]
    }
   ],
   "source": [
    "# 8. Logical AND & OR\n",
    "x = True\n",
    "y = False\n",
    "print(\"x AND y:\", x and y)\n",
    "print(\"x OR y:\", x or y)"
   ]
  },
  {
   "cell_type": "code",
   "execution_count": 9,
   "id": "7f564907-8fd1-428a-98e5-e054b528019d",
   "metadata": {},
   "outputs": [
    {
     "name": "stdout",
     "output_type": "stream",
     "text": [
      "Hello, CHICHI!\n"
     ]
    }
   ],
   "source": [
    "# 9. Greet function\n",
    "def greet(name):\n",
    "    print(f\"Hello, {name}!\")\n",
    "\n",
    "greet(\"CHICHI\")"
   ]
  },
  {
   "cell_type": "code",
   "execution_count": 10,
   "id": "a7b68dfa-8a6e-4bf9-ad88-73a85b9a8c1b",
   "metadata": {},
   "outputs": [
    {
     "name": "stdout",
     "output_type": "stream",
     "text": [
      "Maximum number: 9\n"
     ]
    }
   ],
   "source": [
    "# 10. Find maximum in list\n",
    "def find_max(numbers):\n",
    "    return max(numbers)\n",
    "\n",
    "print(\"Maximum number:\", find_max([3, 7, 2, 5, 9]))"
   ]
  },
  {
   "cell_type": "code",
   "execution_count": 11,
   "id": "477c8b52-e5f4-4a20-9c61-395101dd2ed7",
   "metadata": {},
   "outputs": [
    {
     "name": "stdout",
     "output_type": "stream",
     "text": [
      "Type of x: <class 'list'>\n"
     ]
    }
   ],
   "source": [
    "# 11. Print type of variable\n",
    "x = [1, 2, 3]\n",
    "print(\"Type of x:\", type(x))"
   ]
  },
  {
   "cell_type": "code",
   "execution_count": 12,
   "id": "081b2956-ccd2-43c1-b6ce-e68e0839fe74",
   "metadata": {},
   "outputs": [
    {
     "name": "stdout",
     "output_type": "stream",
     "text": [
      "Sorted list: [1, 2, 4, 9]\n"
     ]
    }
   ],
   "source": [
    "# 12. Sort list\n",
    "numbers = [4, 2, 9, 1]\n",
    "numbers.sort()\n",
    "print(\"Sorted list:\", numbers)"
   ]
  },
  {
   "cell_type": "code",
   "execution_count": 13,
   "id": "5fc64a82-9938-4b0b-8b18-814b79559a7d",
   "metadata": {},
   "outputs": [
    {
     "name": "stdout",
     "output_type": "stream",
     "text": [
      "Discounted price: 85.0\n"
     ]
    }
   ],
   "source": [
    "# 13. Calculate discounted price\n",
    "def calculate_discount(price, discount_percent):\n",
    "    return price - (price * discount_percent / 100)\n",
    "\n",
    "print(\"Discounted price:\", calculate_discount(100, 15))"
   ]
  },
  {
   "cell_type": "code",
   "execution_count": 14,
   "id": "7ec63e0e-c0a1-4cca-b0f2-dc466262a2ee",
   "metadata": {},
   "outputs": [
    {
     "name": "stdout",
     "output_type": "stream",
     "text": [
      "Adult\n"
     ]
    }
   ],
   "source": [
    "# 14. Age classification\n",
    "user_age = 24\n",
    "if user_age < 18:\n",
    "    print(\"Minor\")\n",
    "else:\n",
    "    print(\"Adult\")"
   ]
  },
  {
   "cell_type": "code",
   "execution_count": 15,
   "id": "b5435b81-aa77-4153-8322-f1b4cd5fdb44",
   "metadata": {},
   "outputs": [
    {
     "name": "stdout",
     "output_type": "stream",
     "text": [
      "String statistics: (18, 'PYTHON PROGRAMMING', 'python programming')\n"
     ]
    }
   ],
   "source": [
    "# 15. String statistics\n",
    "def string_statistics(s):\n",
    "    return (len(s), s.upper(), s.lower())\n",
    "\n",
    "print(\"String statistics:\", string_statistics(\"Python Programming\"))"
   ]
  }
 ],
 "metadata": {
  "kernelspec": {
   "display_name": "Python 3 (ipykernel)",
   "language": "python",
   "name": "python3"
  },
  "language_info": {
   "codemirror_mode": {
    "name": "ipython",
    "version": 3
   },
   "file_extension": ".py",
   "mimetype": "text/x-python",
   "name": "python",
   "nbconvert_exporter": "python",
   "pygments_lexer": "ipython3",
   "version": "3.13.5"
  }
 },
 "nbformat": 4,
 "nbformat_minor": 5
}
